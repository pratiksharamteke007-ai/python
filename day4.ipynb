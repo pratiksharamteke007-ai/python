{
  "nbformat": 4,
  "nbformat_minor": 0,
  "metadata": {
    "colab": {
      "provenance": []
    },
    "kernelspec": {
      "name": "python3",
      "display_name": "Python 3"
    },
    "language_info": {
      "name": "python"
    }
  },
  "cells": [
    {
      "cell_type": "code",
      "execution_count": 1,
      "metadata": {
        "id": "Q68Dt1bGmest"
      },
      "outputs": [],
      "source": [
        "sq2 = (i ** 2 for i in range(1,6))"
      ]
    },
    {
      "cell_type": "markdown",
      "source": [
        "# conditional statement -\n",
        "- If Else\n",
        "- if Elif Else\n"
      ],
      "metadata": {
        "id": "y16geP54myHf"
      }
    },
    {
      "cell_type": "code",
      "source": [
        "age = 18\n",
        "if age >=18:\n",
        "  print(\"you are eligible for voting\")\n",
        "else:\n",
        "    print(\"you are not eligible\")"
      ],
      "metadata": {
        "colab": {
          "base_uri": "https://localhost:8080/"
        },
        "id": "C0hTZLBKmsMg",
        "outputId": "e8eeb1fa-75a9-4b62-a916-5e91c08c8b53"
      },
      "execution_count": 3,
      "outputs": [
        {
          "output_type": "stream",
          "name": "stdout",
          "text": [
            "you are eligible for voting\n"
          ]
        }
      ]
    },
    {
      "cell_type": "code",
      "source": [
        "my_password  = 789456\n",
        "my_username  = \"pratiksha\"\n",
        "user = str(input(\"Enter your name:-\"))\n",
        "password = int(input(\"Enter your password:-\"))\n",
        "\n",
        "if user == my_username:\n",
        "  if password ==my_password:\n",
        "    print(\"welcome\",my_username)\n",
        "  else:\n",
        "    print(\"invalid password\")\n",
        "else:\n",
        "  print(\"invalid Username\")\n",
        "\n",
        "\n",
        "\n"
      ],
      "metadata": {
        "colab": {
          "base_uri": "https://localhost:8080/"
        },
        "id": "FXAH3is0nlBn",
        "outputId": "c815e67c-d346-4dd6-a988-f4014f138405"
      },
      "execution_count": 5,
      "outputs": [
        {
          "output_type": "stream",
          "name": "stdout",
          "text": [
            "Enter your name:-pratiksha\n",
            "Enter your password:-789456\n",
            "welcome pratiksha\n"
          ]
        }
      ]
    },
    {
      "cell_type": "code",
      "source": [
        "num = int(input(\"Enter a number (0 for stop) :-\"))\n",
        "while num != 0:\n",
        "  if num >=0:\n",
        "    print(\"positive\")\n",
        "  else:\n",
        "    print(\"negative\")\n",
        "  num = int(input(\"Enter a number (0 for stop) :-\"))\n"
      ],
      "metadata": {
        "colab": {
          "base_uri": "https://localhost:8080/"
        },
        "id": "hFTAOYNrqckP",
        "outputId": "73f81cf2-696f-4c40-f16b-12b0078179bc"
      },
      "execution_count": 6,
      "outputs": [
        {
          "name": "stdout",
          "output_type": "stream",
          "text": [
            "Enter a number (0 for stop) :-2\n",
            "positive\n",
            "Enter a number (0 for stop) :-5\n",
            "positive\n",
            "Enter a number (0 for stop) :-0\n"
          ]
        }
      ]
    },
    {
      "cell_type": "code",
      "source": [],
      "metadata": {
        "id": "TPkn04C5tBFl"
      },
      "execution_count": 6,
      "outputs": []
    }
  ]
}