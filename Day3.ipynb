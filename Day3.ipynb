{
  "nbformat": 4,
  "nbformat_minor": 0,
  "metadata": {
    "colab": {
      "provenance": []
    },
    "kernelspec": {
      "name": "python3",
      "display_name": "Python 3"
    },
    "language_info": {
      "name": "python"
    }
  },
  "cells": [
    {
      "cell_type": "code",
      "execution_count": 1,
      "metadata": {
        "id": "yDRZJKMhApDf"
      },
      "outputs": [],
      "source": [
        "# Tuple ( ) -"
      ]
    },
    {
      "cell_type": "code",
      "source": [
        "# An ordered collection\n",
        "# Immutable Collection - can not change"
      ],
      "metadata": {
        "id": "Il6Byj7ZA3sL"
      },
      "execution_count": 2,
      "outputs": []
    },
    {
      "cell_type": "code",
      "source": [
        "a = ()   # empty tuple"
      ],
      "metadata": {
        "id": "V1L_UiUhBDQU"
      },
      "execution_count": 3,
      "outputs": []
    },
    {
      "cell_type": "code",
      "source": [
        "type(a)"
      ],
      "metadata": {
        "colab": {
          "base_uri": "https://localhost:8080/"
        },
        "id": "EeVsIKfpBLoM",
        "outputId": "01ed1d51-d8a8-412e-90e7-231d52c2d8a6"
      },
      "execution_count": 4,
      "outputs": [
        {
          "output_type": "execute_result",
          "data": {
            "text/plain": [
              "tuple"
            ]
          },
          "metadata": {},
          "execution_count": 4
        }
      ]
    },
    {
      "cell_type": "code",
      "source": [
        "a = ( 2 , 5.6 , True, False, \"Hello\")"
      ],
      "metadata": {
        "id": "SEgxMFz4BMkc"
      },
      "execution_count": 5,
      "outputs": []
    },
    {
      "cell_type": "code",
      "source": [
        "a = tuple([4,5,6,7,8])   #constructors"
      ],
      "metadata": {
        "id": "RruR6K59Ba1g"
      },
      "execution_count": 6,
      "outputs": []
    },
    {
      "cell_type": "code",
      "source": [
        "type(a)"
      ],
      "metadata": {
        "colab": {
          "base_uri": "https://localhost:8080/"
        },
        "id": "5DCClCe4BnGH",
        "outputId": "3ed5067f-1842-4c9c-cc81-46201752f2de"
      },
      "execution_count": 7,
      "outputs": [
        {
          "output_type": "execute_result",
          "data": {
            "text/plain": [
              "tuple"
            ]
          },
          "metadata": {},
          "execution_count": 7
        }
      ]
    },
    {
      "cell_type": "code",
      "source": [
        "# indexing"
      ],
      "metadata": {
        "id": "rFZE_A4NBn6F"
      },
      "execution_count": 8,
      "outputs": []
    },
    {
      "cell_type": "code",
      "source": [
        "a = (7,8,4,5,6,3,2,4,1,4,7,8,9,5,6,4)"
      ],
      "metadata": {
        "id": "4hLLPOq6C-Oz"
      },
      "execution_count": 9,
      "outputs": []
    },
    {
      "cell_type": "code",
      "source": [
        "a[7]"
      ],
      "metadata": {
        "colab": {
          "base_uri": "https://localhost:8080/"
        },
        "id": "kgpZLmrgDBix",
        "outputId": "faa7a33d-e634-4d02-86e5-310bb5bc3329"
      },
      "execution_count": 10,
      "outputs": [
        {
          "output_type": "execute_result",
          "data": {
            "text/plain": [
              "4"
            ]
          },
          "metadata": {},
          "execution_count": 10
        }
      ]
    },
    {
      "cell_type": "code",
      "source": [
        "#slicing"
      ],
      "metadata": {
        "id": "FyuUAqDhDFud"
      },
      "execution_count": 11,
      "outputs": []
    },
    {
      "cell_type": "code",
      "source": [
        "a[0:5]"
      ],
      "metadata": {
        "colab": {
          "base_uri": "https://localhost:8080/"
        },
        "id": "LG7wRxrEDNGe",
        "outputId": "68972eec-42ab-4881-e7e1-7cebbc6a9fd8"
      },
      "execution_count": 12,
      "outputs": [
        {
          "output_type": "execute_result",
          "data": {
            "text/plain": [
              "(7, 8, 4, 5, 6)"
            ]
          },
          "metadata": {},
          "execution_count": 12
        }
      ]
    },
    {
      "cell_type": "code",
      "source": [
        "a[2:4]"
      ],
      "metadata": {
        "colab": {
          "base_uri": "https://localhost:8080/"
        },
        "id": "AYEpSn69DT0u",
        "outputId": "ef79481c-db51-4671-9298-7312b6669f99"
      },
      "execution_count": 13,
      "outputs": [
        {
          "output_type": "execute_result",
          "data": {
            "text/plain": [
              "(4, 5)"
            ]
          },
          "metadata": {},
          "execution_count": 13
        }
      ]
    },
    {
      "cell_type": "code",
      "source": [
        "#methods .methodname"
      ],
      "metadata": {
        "id": "P-Oj9XzfDbHq"
      },
      "execution_count": 14,
      "outputs": []
    },
    {
      "cell_type": "code",
      "source": [
        "a.index(8)"
      ],
      "metadata": {
        "colab": {
          "base_uri": "https://localhost:8080/"
        },
        "id": "X8zjM2d-DkrN",
        "outputId": "986ac57e-3d55-4742-f4ee-4a982521c6a6"
      },
      "execution_count": 15,
      "outputs": [
        {
          "output_type": "execute_result",
          "data": {
            "text/plain": [
              "1"
            ]
          },
          "metadata": {},
          "execution_count": 15
        }
      ]
    },
    {
      "cell_type": "code",
      "source": [
        "a.count(5)"
      ],
      "metadata": {
        "colab": {
          "base_uri": "https://localhost:8080/"
        },
        "id": "x_C63FoPDoWS",
        "outputId": "579fe6d7-121d-4387-9811-5c509df3bfd8"
      },
      "execution_count": 17,
      "outputs": [
        {
          "output_type": "execute_result",
          "data": {
            "text/plain": [
              "2"
            ]
          },
          "metadata": {},
          "execution_count": 17
        }
      ]
    },
    {
      "cell_type": "code",
      "source": [
        "# function"
      ],
      "metadata": {
        "id": "rzSf-sQKDyBc"
      },
      "execution_count": 18,
      "outputs": []
    },
    {
      "cell_type": "code",
      "source": [
        "len(a)"
      ],
      "metadata": {
        "colab": {
          "base_uri": "https://localhost:8080/"
        },
        "id": "niw7CnJeD6H-",
        "outputId": "2e7d0899-509e-448a-89d2-8dfdad4fa98e"
      },
      "execution_count": 19,
      "outputs": [
        {
          "output_type": "execute_result",
          "data": {
            "text/plain": [
              "16"
            ]
          },
          "metadata": {},
          "execution_count": 19
        }
      ]
    },
    {
      "cell_type": "code",
      "source": [
        "min(a)"
      ],
      "metadata": {
        "colab": {
          "base_uri": "https://localhost:8080/"
        },
        "id": "mA_ysZAyD9cG",
        "outputId": "208b7a65-0d7c-4ce7-c3e0-e84ed5d4d7b7"
      },
      "execution_count": 20,
      "outputs": [
        {
          "output_type": "execute_result",
          "data": {
            "text/plain": [
              "1"
            ]
          },
          "metadata": {},
          "execution_count": 20
        }
      ]
    },
    {
      "cell_type": "code",
      "source": [
        "max(a)"
      ],
      "metadata": {
        "colab": {
          "base_uri": "https://localhost:8080/"
        },
        "id": "5PdSZI7tD_Ga",
        "outputId": "dbf7a420-2297-488a-dd3a-77eae5dbb949"
      },
      "execution_count": 21,
      "outputs": [
        {
          "output_type": "execute_result",
          "data": {
            "text/plain": [
              "9"
            ]
          },
          "metadata": {},
          "execution_count": 21
        }
      ]
    },
    {
      "cell_type": "code",
      "source": [
        "sum(a)"
      ],
      "metadata": {
        "colab": {
          "base_uri": "https://localhost:8080/"
        },
        "id": "p71GINc3D_9G",
        "outputId": "fd570893-ff53-4877-ed90-309d831e9956"
      },
      "execution_count": 22,
      "outputs": [
        {
          "output_type": "execute_result",
          "data": {
            "text/plain": [
              "83"
            ]
          },
          "metadata": {},
          "execution_count": 22
        }
      ]
    },
    {
      "cell_type": "code",
      "source": [
        "sorted(a)"
      ],
      "metadata": {
        "colab": {
          "base_uri": "https://localhost:8080/"
        },
        "id": "2ZrwPf3OEDco",
        "outputId": "c680af90-7cbe-4bb9-9fe2-f71468ecbd42"
      },
      "execution_count": 23,
      "outputs": [
        {
          "output_type": "execute_result",
          "data": {
            "text/plain": [
              "[1, 2, 3, 4, 4, 4, 4, 5, 5, 6, 6, 7, 7, 8, 8, 9]"
            ]
          },
          "metadata": {},
          "execution_count": 23
        }
      ]
    },
    {
      "cell_type": "code",
      "source": [
        "list(a)"
      ],
      "metadata": {
        "colab": {
          "base_uri": "https://localhost:8080/"
        },
        "id": "OOxh_EDIELtJ",
        "outputId": "81e0ea51-9107-44ec-9ac8-8445ee61ee06"
      },
      "execution_count": 24,
      "outputs": [
        {
          "output_type": "execute_result",
          "data": {
            "text/plain": [
              "[7, 8, 4, 5, 6, 3, 2, 4, 1, 4, 7, 8, 9, 5, 6, 4]"
            ]
          },
          "metadata": {},
          "execution_count": 24
        }
      ]
    },
    {
      "cell_type": "code",
      "source": [
        "list(a).reverse()"
      ],
      "metadata": {
        "id": "Pk8aRkbOEx2I"
      },
      "execution_count": 25,
      "outputs": []
    },
    {
      "cell_type": "code",
      "source": [
        "a"
      ],
      "metadata": {
        "colab": {
          "base_uri": "https://localhost:8080/"
        },
        "id": "C2Fty3m3E2Bb",
        "outputId": "a5c748c5-4854-4825-893e-0a5af32b7d0b"
      },
      "execution_count": 26,
      "outputs": [
        {
          "output_type": "execute_result",
          "data": {
            "text/plain": [
              "(7, 8, 4, 5, 6, 3, 2, 4, 1, 4, 7, 8, 9, 5, 6, 4)"
            ]
          },
          "metadata": {},
          "execution_count": 26
        }
      ]
    },
    {
      "cell_type": "code",
      "source": [
        "# set - { }"
      ],
      "metadata": {
        "id": "LymzG7XaE2rH"
      },
      "execution_count": 27,
      "outputs": []
    },
    {
      "cell_type": "code",
      "source": [
        "# unordered  -\n",
        "# mutable - can change\n",
        "# unique value - no duplicate record\n",
        "# automatically sorting the element"
      ],
      "metadata": {
        "id": "EG9vEgRtFgEB"
      },
      "execution_count": 30,
      "outputs": []
    },
    {
      "cell_type": "code",
      "source": [
        "a = set()"
      ],
      "metadata": {
        "id": "WhbpFCJGFg-u"
      },
      "execution_count": 33,
      "outputs": []
    },
    {
      "cell_type": "code",
      "source": [
        "type(a)"
      ],
      "metadata": {
        "colab": {
          "base_uri": "https://localhost:8080/"
        },
        "id": "miw469n7Fmeq",
        "outputId": "6c2496ee-b630-457c-f57a-039500a9068a"
      },
      "execution_count": 34,
      "outputs": [
        {
          "output_type": "execute_result",
          "data": {
            "text/plain": [
              "set"
            ]
          },
          "metadata": {},
          "execution_count": 34
        }
      ]
    },
    {
      "cell_type": "code",
      "source": [
        "a = { 7,8,4,1,2,5,4,1,2,6,5,3,9,8,5,4,1,2,4,5}"
      ],
      "metadata": {
        "id": "TD3FQaIQHC1n"
      },
      "execution_count": 35,
      "outputs": []
    },
    {
      "cell_type": "code",
      "source": [
        "print(a)"
      ],
      "metadata": {
        "colab": {
          "base_uri": "https://localhost:8080/"
        },
        "id": "r6SqOMtlHPiv",
        "outputId": "0d4c72d0-6dda-4b37-cc0a-956d9a8da072"
      },
      "execution_count": 36,
      "outputs": [
        {
          "output_type": "stream",
          "name": "stdout",
          "text": [
            "{1, 2, 3, 4, 5, 6, 7, 8, 9}\n"
          ]
        }
      ]
    },
    {
      "cell_type": "code",
      "source": [
        "a.add(10)   #.add add the one element"
      ],
      "metadata": {
        "id": "xY88iw6MHRH2"
      },
      "execution_count": 37,
      "outputs": []
    },
    {
      "cell_type": "code",
      "source": [
        "a"
      ],
      "metadata": {
        "colab": {
          "base_uri": "https://localhost:8080/"
        },
        "id": "bKlwaDsaHphN",
        "outputId": "46de98d8-3927-40c4-ef14-42d528fb6f1e"
      },
      "execution_count": 38,
      "outputs": [
        {
          "output_type": "execute_result",
          "data": {
            "text/plain": [
              "{1, 2, 3, 4, 5, 6, 7, 8, 9, 10}"
            ]
          },
          "metadata": {},
          "execution_count": 38
        }
      ]
    },
    {
      "cell_type": "code",
      "source": [
        "a.update([11,12,13,14])"
      ],
      "metadata": {
        "id": "UJAWa4-RHp_5"
      },
      "execution_count": 39,
      "outputs": []
    },
    {
      "cell_type": "code",
      "source": [
        "a"
      ],
      "metadata": {
        "colab": {
          "base_uri": "https://localhost:8080/"
        },
        "id": "V3DA3bnkH_1I",
        "outputId": "f8e80cd1-d5c2-44f6-c4ca-12c42df68767"
      },
      "execution_count": 40,
      "outputs": [
        {
          "output_type": "execute_result",
          "data": {
            "text/plain": [
              "{1, 2, 3, 4, 5, 6, 7, 8, 9, 10, 11, 12, 13, 14}"
            ]
          },
          "metadata": {},
          "execution_count": 40
        }
      ]
    },
    {
      "cell_type": "code",
      "source": [
        "a.remove(10)"
      ],
      "metadata": {
        "id": "4nYU3TgcIAPK"
      },
      "execution_count": 41,
      "outputs": []
    },
    {
      "cell_type": "code",
      "source": [
        "a"
      ],
      "metadata": {
        "colab": {
          "base_uri": "https://localhost:8080/"
        },
        "id": "gVUXMEQEIV9C",
        "outputId": "21bd0cf0-001b-49a1-f6b0-8932e8087365"
      },
      "execution_count": 42,
      "outputs": [
        {
          "output_type": "execute_result",
          "data": {
            "text/plain": [
              "{1, 2, 3, 4, 5, 6, 7, 8, 9, 11, 12, 13, 14}"
            ]
          },
          "metadata": {},
          "execution_count": 42
        }
      ]
    },
    {
      "cell_type": "code",
      "source": [
        "a.remove(15)"
      ],
      "metadata": {
        "colab": {
          "base_uri": "https://localhost:8080/",
          "height": 141
        },
        "id": "BwFM3q-mIXDv",
        "outputId": "6ac61e42-88a9-44b5-c9b4-bc3aa9dc66c3"
      },
      "execution_count": 43,
      "outputs": [
        {
          "output_type": "error",
          "ename": "KeyError",
          "evalue": "15",
          "traceback": [
            "\u001b[0;31m---------------------------------------------------------------------------\u001b[0m",
            "\u001b[0;31mKeyError\u001b[0m                                  Traceback (most recent call last)",
            "\u001b[0;32m/tmp/ipython-input-894040900.py\u001b[0m in \u001b[0;36m<cell line: 0>\u001b[0;34m()\u001b[0m\n\u001b[0;32m----> 1\u001b[0;31m \u001b[0ma\u001b[0m\u001b[0;34m.\u001b[0m\u001b[0mremove\u001b[0m\u001b[0;34m(\u001b[0m\u001b[0;36m15\u001b[0m\u001b[0;34m)\u001b[0m\u001b[0;34m\u001b[0m\u001b[0;34m\u001b[0m\u001b[0m\n\u001b[0m",
            "\u001b[0;31mKeyError\u001b[0m: 15"
          ]
        }
      ]
    },
    {
      "cell_type": "code",
      "source": [
        "a.discard(15)"
      ],
      "metadata": {
        "id": "BDD52HgwIcQv"
      },
      "execution_count": 44,
      "outputs": []
    },
    {
      "cell_type": "code",
      "source": [
        "a.pop()"
      ],
      "metadata": {
        "colab": {
          "base_uri": "https://localhost:8080/"
        },
        "id": "cpHQThdwIj8h",
        "outputId": "a98dc281-bb37-4538-d5b6-658d91e7c97d"
      },
      "execution_count": 48,
      "outputs": [
        {
          "output_type": "execute_result",
          "data": {
            "text/plain": [
              "4"
            ]
          },
          "metadata": {},
          "execution_count": 48
        }
      ]
    },
    {
      "cell_type": "code",
      "source": [
        "a"
      ],
      "metadata": {
        "colab": {
          "base_uri": "https://localhost:8080/"
        },
        "id": "eVg_VEbnItfd",
        "outputId": "a0abfa91-dd84-44c2-eedc-e6669f6fc51c"
      },
      "execution_count": 49,
      "outputs": [
        {
          "output_type": "execute_result",
          "data": {
            "text/plain": [
              "{5, 6, 7, 8, 9, 11, 12, 13, 14}"
            ]
          },
          "metadata": {},
          "execution_count": 49
        }
      ]
    },
    {
      "cell_type": "code",
      "source": [
        "# Dictionary in python"
      ],
      "metadata": {
        "id": "P4RG3HbpI0CC"
      },
      "execution_count": 50,
      "outputs": []
    },
    {
      "cell_type": "code",
      "source": [
        "#mutable - collection of keys:values\n",
        "# key must be unique"
      ],
      "metadata": {
        "id": "-SIsGWsTI8cm"
      },
      "execution_count": 51,
      "outputs": []
    },
    {
      "cell_type": "code",
      "source": [
        "a = {}"
      ],
      "metadata": {
        "id": "p6sT8asOJCmk"
      },
      "execution_count": 52,
      "outputs": []
    },
    {
      "cell_type": "code",
      "source": [
        "type(a)"
      ],
      "metadata": {
        "colab": {
          "base_uri": "https://localhost:8080/"
        },
        "id": "rCagF07yJOD_",
        "outputId": "164a68d0-4846-4516-d4b6-510f8adaee83"
      },
      "execution_count": 53,
      "outputs": [
        {
          "output_type": "execute_result",
          "data": {
            "text/plain": [
              "dict"
            ]
          },
          "metadata": {},
          "execution_count": 53
        }
      ]
    },
    {
      "cell_type": "code",
      "source": [
        "a = {\"name\": \"tushar\",\n",
        "     \"age\":33,\n",
        "     \"city\":\"wardha\"}"
      ],
      "metadata": {
        "id": "Um_8qeK-JPoV"
      },
      "execution_count": 54,
      "outputs": []
    },
    {
      "cell_type": "code",
      "source": [
        "a['age']"
      ],
      "metadata": {
        "colab": {
          "base_uri": "https://localhost:8080/"
        },
        "id": "yEdYJamlJaPy",
        "outputId": "9d44a2e4-0dee-40b6-e4f3-da052286bb34"
      },
      "execution_count": 55,
      "outputs": [
        {
          "output_type": "execute_result",
          "data": {
            "text/plain": [
              "33"
            ]
          },
          "metadata": {},
          "execution_count": 55
        }
      ]
    },
    {
      "cell_type": "code",
      "source": [
        "a['city']"
      ],
      "metadata": {
        "colab": {
          "base_uri": "https://localhost:8080/",
          "height": 35
        },
        "id": "acCrE18fJnLD",
        "outputId": "78794ae8-135a-463f-fb48-b79d9f22ee72"
      },
      "execution_count": 56,
      "outputs": [
        {
          "output_type": "execute_result",
          "data": {
            "text/plain": [
              "'wardha'"
            ],
            "application/vnd.google.colaboratory.intrinsic+json": {
              "type": "string"
            }
          },
          "metadata": {},
          "execution_count": 56
        }
      ]
    },
    {
      "cell_type": "code",
      "source": [
        "a['city'] = \"nagpur\""
      ],
      "metadata": {
        "id": "xByQf9S9JwHq"
      },
      "execution_count": 57,
      "outputs": []
    },
    {
      "cell_type": "code",
      "source": [
        "a"
      ],
      "metadata": {
        "colab": {
          "base_uri": "https://localhost:8080/"
        },
        "id": "XJawbg1LJ3jN",
        "outputId": "d54143a6-d52a-43b9-a4c6-8c294661344b"
      },
      "execution_count": 58,
      "outputs": [
        {
          "output_type": "execute_result",
          "data": {
            "text/plain": [
              "{'name': 'tushar', 'age': 33, 'city': 'nagpur'}"
            ]
          },
          "metadata": {},
          "execution_count": 58
        }
      ]
    },
    {
      "cell_type": "code",
      "source": [
        "a['gender']= 'male'"
      ],
      "metadata": {
        "id": "1lECCqpzJ4AT"
      },
      "execution_count": 59,
      "outputs": []
    },
    {
      "cell_type": "code",
      "source": [
        "a"
      ],
      "metadata": {
        "colab": {
          "base_uri": "https://localhost:8080/"
        },
        "id": "aVs5qwSiKBaq",
        "outputId": "7046f228-243f-40eb-a055-a3822c25342e"
      },
      "execution_count": 60,
      "outputs": [
        {
          "output_type": "execute_result",
          "data": {
            "text/plain": [
              "{'name': 'tushar', 'age': 33, 'city': 'nagpur', 'gender': 'male'}"
            ]
          },
          "metadata": {},
          "execution_count": 60
        }
      ]
    },
    {
      "cell_type": "code",
      "source": [
        "a.keys()"
      ],
      "metadata": {
        "colab": {
          "base_uri": "https://localhost:8080/"
        },
        "id": "ks6a-ParKB2O",
        "outputId": "b28478c1-99ac-434f-e06a-6bf3b76b8573"
      },
      "execution_count": 62,
      "outputs": [
        {
          "output_type": "execute_result",
          "data": {
            "text/plain": [
              "dict_keys(['name', 'age', 'city', 'gender'])"
            ]
          },
          "metadata": {},
          "execution_count": 62
        }
      ]
    },
    {
      "cell_type": "code",
      "source": [
        "a.values()"
      ],
      "metadata": {
        "colab": {
          "base_uri": "https://localhost:8080/"
        },
        "id": "KIKe9dOyKPzT",
        "outputId": "78a2d6fd-b519-408d-c21c-bd7b300a34ab"
      },
      "execution_count": 63,
      "outputs": [
        {
          "output_type": "execute_result",
          "data": {
            "text/plain": [
              "dict_values(['tushar', 33, 'nagpur', 'male'])"
            ]
          },
          "metadata": {},
          "execution_count": 63
        }
      ]
    },
    {
      "cell_type": "code",
      "source": [
        "# LOOPS -  FOR - WHILE"
      ],
      "metadata": {
        "id": "bHtB_gorKTvw"
      },
      "execution_count": 64,
      "outputs": []
    },
    {
      "cell_type": "code",
      "source": [
        "# FOR LOOP"
      ],
      "metadata": {
        "id": "f0qEyXFbKrcg"
      },
      "execution_count": 65,
      "outputs": []
    },
    {
      "cell_type": "code",
      "source": [
        "# When we have a range - that mean\n",
        "# we have start also and end also"
      ],
      "metadata": {
        "id": "VatkgshtKt6u"
      },
      "execution_count": 66,
      "outputs": []
    },
    {
      "cell_type": "code",
      "source": [
        "fruits = ['apple', 'banana', 'cherry', 'kiwi']"
      ],
      "metadata": {
        "id": "57Xx9_qJK4Wu"
      },
      "execution_count": 67,
      "outputs": []
    },
    {
      "cell_type": "code",
      "source": [
        "#iteration mean one by one accesing the element\n",
        "# in - keyword for iteration"
      ],
      "metadata": {
        "id": "hV-tLMi_LHmc"
      },
      "execution_count": 69,
      "outputs": []
    },
    {
      "cell_type": "code",
      "source": [
        "for i in fruits:\n",
        "  print(i)"
      ],
      "metadata": {
        "colab": {
          "base_uri": "https://localhost:8080/"
        },
        "id": "7yfydHdiLSsr",
        "outputId": "2e2b345e-93bc-4823-f166-616bae850f3c"
      },
      "execution_count": 70,
      "outputs": [
        {
          "output_type": "stream",
          "name": "stdout",
          "text": [
            "apple\n",
            "banana\n",
            "cherry\n",
            "kiwi\n"
          ]
        }
      ]
    },
    {
      "cell_type": "code",
      "source": [
        "for i in range(1, 101):\n",
        "  print(\"please practice kara\")"
      ],
      "metadata": {
        "colab": {
          "base_uri": "https://localhost:8080/"
        },
        "id": "XzUJl3RsL4IM",
        "outputId": "56f340f3-2cb7-4cec-9183-f1b8afaab956"
      },
      "execution_count": 81,
      "outputs": [
        {
          "output_type": "stream",
          "name": "stdout",
          "text": [
            "please practice kara\n",
            "please practice kara\n",
            "please practice kara\n",
            "please practice kara\n",
            "please practice kara\n",
            "please practice kara\n",
            "please practice kara\n",
            "please practice kara\n",
            "please practice kara\n",
            "please practice kara\n",
            "please practice kara\n",
            "please practice kara\n",
            "please practice kara\n",
            "please practice kara\n",
            "please practice kara\n",
            "please practice kara\n",
            "please practice kara\n",
            "please practice kara\n",
            "please practice kara\n",
            "please practice kara\n",
            "please practice kara\n",
            "please practice kara\n",
            "please practice kara\n",
            "please practice kara\n",
            "please practice kara\n",
            "please practice kara\n",
            "please practice kara\n",
            "please practice kara\n",
            "please practice kara\n",
            "please practice kara\n",
            "please practice kara\n",
            "please practice kara\n",
            "please practice kara\n",
            "please practice kara\n",
            "please practice kara\n",
            "please practice kara\n",
            "please practice kara\n",
            "please practice kara\n",
            "please practice kara\n",
            "please practice kara\n",
            "please practice kara\n",
            "please practice kara\n",
            "please practice kara\n",
            "please practice kara\n",
            "please practice kara\n",
            "please practice kara\n",
            "please practice kara\n",
            "please practice kara\n",
            "please practice kara\n",
            "please practice kara\n",
            "please practice kara\n",
            "please practice kara\n",
            "please practice kara\n",
            "please practice kara\n",
            "please practice kara\n",
            "please practice kara\n",
            "please practice kara\n",
            "please practice kara\n",
            "please practice kara\n",
            "please practice kara\n",
            "please practice kara\n",
            "please practice kara\n",
            "please practice kara\n",
            "please practice kara\n",
            "please practice kara\n",
            "please practice kara\n",
            "please practice kara\n",
            "please practice kara\n",
            "please practice kara\n",
            "please practice kara\n",
            "please practice kara\n",
            "please practice kara\n",
            "please practice kara\n",
            "please practice kara\n",
            "please practice kara\n",
            "please practice kara\n",
            "please practice kara\n",
            "please practice kara\n",
            "please practice kara\n",
            "please practice kara\n",
            "please practice kara\n",
            "please practice kara\n",
            "please practice kara\n",
            "please practice kara\n",
            "please practice kara\n",
            "please practice kara\n",
            "please practice kara\n",
            "please practice kara\n",
            "please practice kara\n",
            "please practice kara\n",
            "please practice kara\n",
            "please practice kara\n",
            "please practice kara\n",
            "please practice kara\n",
            "please practice kara\n",
            "please practice kara\n",
            "please practice kara\n",
            "please practice kara\n",
            "please practice kara\n",
            "please practice kara\n"
          ]
        }
      ]
    },
    {
      "cell_type": "code",
      "source": [
        "#indentation-we need extra space in next line after :"
      ],
      "metadata": {
        "id": "Cgx-55KjMw31"
      },
      "execution_count": null,
      "outputs": []
    },
    {
      "cell_type": "code",
      "source": [
        "total = 0\n",
        "for i in range(1,101):\n",
        "  total = total + i"
      ],
      "metadata": {
        "id": "jrf3jpuLMHAE"
      },
      "execution_count": 76,
      "outputs": []
    },
    {
      "cell_type": "code",
      "source": [
        "total"
      ],
      "metadata": {
        "colab": {
          "base_uri": "https://localhost:8080/"
        },
        "id": "D1GtpEonMelh",
        "outputId": "65754d10-bcb5-4656-dc94-cc83a003269f"
      },
      "execution_count": 77,
      "outputs": [
        {
          "output_type": "execute_result",
          "data": {
            "text/plain": [
              "5050"
            ]
          },
          "metadata": {},
          "execution_count": 77
        }
      ]
    },
    {
      "cell_type": "code",
      "source": [
        "num = 5\n",
        "for i in range(1,11):\n",
        "  print(f'{num} * {i} = {num * i}')"
      ],
      "metadata": {
        "colab": {
          "base_uri": "https://localhost:8080/"
        },
        "id": "XpXQiFZrMfnt",
        "outputId": "69dcb25f-92ba-4d5d-c2f4-3d1f202c2cbc"
      },
      "execution_count": 78,
      "outputs": [
        {
          "output_type": "stream",
          "name": "stdout",
          "text": [
            "5 * 1 = 5\n",
            "5 * 2 = 10\n",
            "5 * 3 = 15\n",
            "5 * 4 = 20\n",
            "5 * 5 = 25\n",
            "5 * 6 = 30\n",
            "5 * 7 = 35\n",
            "5 * 8 = 40\n",
            "5 * 9 = 45\n",
            "5 * 10 = 50\n"
          ]
        }
      ]
    },
    {
      "cell_type": "code",
      "source": [
        "for num in range(5,8):\n",
        "  for i in range(1,11):\n",
        "    print(f'{num} * {i} = {num * i}')\n",
        "  print(\"----------------------\")"
      ],
      "metadata": {
        "colab": {
          "base_uri": "https://localhost:8080/"
        },
        "id": "3_Zo5hRNN5Yf",
        "outputId": "a589a4b4-e148-48c8-f828-bc3127a3d85e"
      },
      "execution_count": 80,
      "outputs": [
        {
          "output_type": "stream",
          "name": "stdout",
          "text": [
            "5 * 1 = 5\n",
            "5 * 2 = 10\n",
            "5 * 3 = 15\n",
            "5 * 4 = 20\n",
            "5 * 5 = 25\n",
            "5 * 6 = 30\n",
            "5 * 7 = 35\n",
            "5 * 8 = 40\n",
            "5 * 9 = 45\n",
            "5 * 10 = 50\n",
            "----------------------\n",
            "6 * 1 = 6\n",
            "6 * 2 = 12\n",
            "6 * 3 = 18\n",
            "6 * 4 = 24\n",
            "6 * 5 = 30\n",
            "6 * 6 = 36\n",
            "6 * 7 = 42\n",
            "6 * 8 = 48\n",
            "6 * 9 = 54\n",
            "6 * 10 = 60\n",
            "----------------------\n",
            "7 * 1 = 7\n",
            "7 * 2 = 14\n",
            "7 * 3 = 21\n",
            "7 * 4 = 28\n",
            "7 * 5 = 35\n",
            "7 * 6 = 42\n",
            "7 * 7 = 49\n",
            "7 * 8 = 56\n",
            "7 * 9 = 63\n",
            "7 * 10 = 70\n",
            "----------------------\n"
          ]
        }
      ]
    },
    {
      "cell_type": "code",
      "source": [],
      "metadata": {
        "id": "ClXnG0TiOfGX"
      },
      "execution_count": null,
      "outputs": []
    }
  ]
}